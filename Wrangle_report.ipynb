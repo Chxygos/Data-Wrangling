{
 "cells": [
  {
   "cell_type": "markdown",
   "id": "4e3e1a61",
   "metadata": {},
   "source": [
    "## DATA WRANGLING AND ANALYSIS\n",
    "\n",
    "### Introduction\n",
    "In the project we worked on the processes of data wrangling that is *Gathering, Accessing* and *Cleaning* Process, storing the data as required then *Analysing* and *Visualizing*. \n",
    "\n",
    "In the Gathering process which implied different ways to get our data;\n",
    "\n",
    "**Reading data in flat files to our notebook**\n",
    "\n",
    "We read the *twitter-archive-enhanced.csv* it into our notebook using pandas \n",
    "\n",
    "**Downloading data programmatically using the Requests library**\n",
    "\n",
    "Using the request library we downloaded the  *image_predictions.tsv* programmatically from the URL: https://d17h27t6h515a5.cloudfront.net/topher/2017/August/599fd2ad_image-predictions/image-predictions.tsv. Then reading it to our notebook\n",
    "\n",
    "**Furthermore, Gathering additional data from the Twitter API**\n",
    "Lastly, we gathered each tweet's retweet count and favorite (\"like\") count using the tweet IDs in the WeRateDogs Twitter archive using the **twitter_api.py** and **tweet_json.txt** provided in the udacity project page, reading this .txt file line by line into a pandas DataFrame\n",
    "\n",
    "After gathering our data, we moved to *Accessing* these data which is the second step in our wrangling process visually by scrolling through our data and also programmatically by code. While accessing our data we detected Quality and Tidiness issue in our data and documented these problems detected to make the last step of our wrangling process easier.\n",
    "\n",
    "Furthermore, we moved to clean our data which is the last step in our data wrangling process, this was easier to deal with, with the issues of our data been documented. Using pandas we write codes to fix these Quality and Tidiness Issue detected while accessing our data.The steps in cleaning involves; \n",
    "\n",
    "* Define - In definition of the problem will talked about how we can be able to fix the programmatically using codes\n",
    "* Code - In coding we write code to enable us correct the issue we are trying to resolve\n",
    "* Test - We test to confirm the issue has been fixed after running our written codes\n",
    "\n",
    "\n",
    "However, after our data and tables has been cleaned we were able to merge these three tables. At this stage we iterate on some cleaning and then storing our data as twitter_archive_master as requested.\n",
    "\n",
    "Finally we did some analysis and visualizing on our cleaned master table drawing insights and documenting our analysis for better understanding."
   ]
  },
  {
   "cell_type": "code",
   "execution_count": null,
   "id": "0c4f4f0d",
   "metadata": {},
   "outputs": [],
   "source": []
  }
 ],
 "metadata": {
  "kernelspec": {
   "display_name": "Python 3 (ipykernel)",
   "language": "python",
   "name": "python3"
  },
  "language_info": {
   "codemirror_mode": {
    "name": "ipython",
    "version": 3
   },
   "file_extension": ".py",
   "mimetype": "text/x-python",
   "name": "python",
   "nbconvert_exporter": "python",
   "pygments_lexer": "ipython3",
   "version": "3.9.7"
  }
 },
 "nbformat": 4,
 "nbformat_minor": 5
}
